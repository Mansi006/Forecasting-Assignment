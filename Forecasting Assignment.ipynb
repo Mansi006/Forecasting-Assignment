{
 "cells": [
  {
   "cell_type": "markdown",
   "id": "08dc05ea",
   "metadata": {},
   "source": [
    "## Importing Libraries"
   ]
  },
  {
   "cell_type": "code",
   "execution_count": 1,
   "id": "1a1fbde6",
   "metadata": {},
   "outputs": [],
   "source": [
    "import pandas as pd\n",
    "import numpy as np\n",
    "import matplotlib.pyplot as plt\n",
    "import seaborn as sns\n",
    "\n",
    "from statsmodels.tsa.seasonal import seasonal_decompose\n",
    "from statsmodels.tsa.holtwinters import SimpleExpSmoothing # SES\n",
    "from statsmodels.tsa.holtwinters import Holt # Holts Exponential Smoothing double\n",
    "from statsmodels.tsa.holtwinters import ExponentialSmoothing \n",
    "from sklearn.metrics import mean_squared_error\n",
    "from statsmodels.tsa.arima.model import ARIMA\n",
    "from statsmodels.tsa.statespace.sarimax import SARIMAX\n",
    "from statsmodels.graphics.tsaplots import plot_acf\n",
    "from statsmodels.graphics.tsaplots import plot_pacf\n",
    "\n",
    "import warnings\n",
    "warnings.filterwarnings('ignore')"
   ]
  },
  {
   "cell_type": "code",
   "execution_count": 2,
   "id": "4aea4dc0",
   "metadata": {},
   "outputs": [
    {
     "name": "stdout",
     "output_type": "stream",
     "text": [
      " Volume in drive C has no label.\n",
      " Volume Serial Number is A239-1DCD\n",
      "\n",
      " Directory of C:\\Users\\HP\\Documents\\EXCELR ASSIGNMENTS\\Forecasting Assignment\n",
      "\n",
      "16-01-2023  22:14    <DIR>          .\n",
      "16-01-2023  22:14    <DIR>          ..\n",
      "07-01-2023  21:17    <DIR>          .ipynb_checkpoints\n",
      "06-01-2023  23:08             9,559 Airlines+Data.xlsx\n",
      "06-01-2023  23:08             9,422 CocaCola_Sales_Rawdata.xlsx\n",
      "16-01-2023  22:14           470,706 Forecasting Assignment.ipynb\n",
      "06-01-2023  23:08               233 Problem_statement.txt\n",
      "               4 File(s)        489,920 bytes\n",
      "               3 Dir(s)  151,160,049,664 bytes free\n"
     ]
    }
   ],
   "source": [
    "ls"
   ]
  },
  {
   "cell_type": "markdown",
   "id": "a70ac423",
   "metadata": {},
   "source": [
    "# Q.1. CocaCola Sales"
   ]
  },
  {
   "cell_type": "markdown",
   "id": "991f4e3b",
   "metadata": {},
   "source": [
    "## Importing Data"
   ]
  },
  {
   "cell_type": "code",
   "execution_count": 3,
   "id": "0eabe127",
   "metadata": {},
   "outputs": [],
   "source": [
    "CocaCola_Sales_Rawdata=pd.read_excel(\"CocaCola_Sales_Rawdata.xlsx\")"
   ]
  },
  {
   "cell_type": "code",
   "execution_count": 4,
   "id": "8a7ea281",
   "metadata": {},
   "outputs": [
    {
     "data": {
      "text/html": [
       "<div>\n",
       "<style scoped>\n",
       "    .dataframe tbody tr th:only-of-type {\n",
       "        vertical-align: middle;\n",
       "    }\n",
       "\n",
       "    .dataframe tbody tr th {\n",
       "        vertical-align: top;\n",
       "    }\n",
       "\n",
       "    .dataframe thead th {\n",
       "        text-align: right;\n",
       "    }\n",
       "</style>\n",
       "<table border=\"1\" class=\"dataframe\">\n",
       "  <thead>\n",
       "    <tr style=\"text-align: right;\">\n",
       "      <th></th>\n",
       "      <th>Quarter</th>\n",
       "      <th>Sales</th>\n",
       "    </tr>\n",
       "  </thead>\n",
       "  <tbody>\n",
       "    <tr>\n",
       "      <th>0</th>\n",
       "      <td>Q1_86</td>\n",
       "      <td>1734.827000</td>\n",
       "    </tr>\n",
       "    <tr>\n",
       "      <th>1</th>\n",
       "      <td>Q2_86</td>\n",
       "      <td>2244.960999</td>\n",
       "    </tr>\n",
       "    <tr>\n",
       "      <th>2</th>\n",
       "      <td>Q3_86</td>\n",
       "      <td>2533.804993</td>\n",
       "    </tr>\n",
       "    <tr>\n",
       "      <th>3</th>\n",
       "      <td>Q4_86</td>\n",
       "      <td>2154.962997</td>\n",
       "    </tr>\n",
       "    <tr>\n",
       "      <th>4</th>\n",
       "      <td>Q1_87</td>\n",
       "      <td>1547.818996</td>\n",
       "    </tr>\n",
       "  </tbody>\n",
       "</table>\n",
       "</div>"
      ],
      "text/plain": [
       "  Quarter        Sales\n",
       "0   Q1_86  1734.827000\n",
       "1   Q2_86  2244.960999\n",
       "2   Q3_86  2533.804993\n",
       "3   Q4_86  2154.962997\n",
       "4   Q1_87  1547.818996"
      ]
     },
     "execution_count": 4,
     "metadata": {},
     "output_type": "execute_result"
    }
   ],
   "source": [
    "CocaCola_Sales_Rawdata.head()"
   ]
  },
  {
   "cell_type": "markdown",
   "id": "4c6076c9",
   "metadata": {},
   "source": [
    "## EDA"
   ]
  },
  {
   "cell_type": "code",
   "execution_count": 5,
   "id": "52177369",
   "metadata": {},
   "outputs": [
    {
     "data": {
      "text/plain": [
       "Quarter     object\n",
       "Sales      float64\n",
       "dtype: object"
      ]
     },
     "execution_count": 5,
     "metadata": {},
     "output_type": "execute_result"
    }
   ],
   "source": [
    "CocaCola_Sales_Rawdata.dtypes"
   ]
  },
  {
   "cell_type": "code",
   "execution_count": 6,
   "id": "c72e8ee5",
   "metadata": {},
   "outputs": [
    {
     "data": {
      "text/plain": [
       "(42, 2)"
      ]
     },
     "execution_count": 6,
     "metadata": {},
     "output_type": "execute_result"
    }
   ],
   "source": [
    "CocaCola_Sales_Rawdata.shape"
   ]
  },
  {
   "cell_type": "code",
   "execution_count": 7,
   "id": "01196c5c",
   "metadata": {},
   "outputs": [
    {
     "name": "stdout",
     "output_type": "stream",
     "text": [
      "<class 'pandas.core.frame.DataFrame'>\n",
      "RangeIndex: 42 entries, 0 to 41\n",
      "Data columns (total 2 columns):\n",
      " #   Column   Non-Null Count  Dtype  \n",
      "---  ------   --------------  -----  \n",
      " 0   Quarter  42 non-null     object \n",
      " 1   Sales    42 non-null     float64\n",
      "dtypes: float64(1), object(1)\n",
      "memory usage: 800.0+ bytes\n"
     ]
    }
   ],
   "source": [
    "CocaCola_Sales_Rawdata.info()"
   ]
  },
  {
   "cell_type": "code",
   "execution_count": 8,
   "id": "529fb549",
   "metadata": {},
   "outputs": [
    {
     "data": {
      "text/plain": [
       "Quarter    0\n",
       "Sales      0\n",
       "dtype: int64"
      ]
     },
     "execution_count": 8,
     "metadata": {},
     "output_type": "execute_result"
    }
   ],
   "source": [
    "CocaCola_Sales_Rawdata.isnull().sum()"
   ]
  },
  {
   "cell_type": "code",
   "execution_count": 9,
   "id": "5299e1b5",
   "metadata": {},
   "outputs": [
    {
     "data": {
      "text/html": [
       "<div>\n",
       "<style scoped>\n",
       "    .dataframe tbody tr th:only-of-type {\n",
       "        vertical-align: middle;\n",
       "    }\n",
       "\n",
       "    .dataframe tbody tr th {\n",
       "        vertical-align: top;\n",
       "    }\n",
       "\n",
       "    .dataframe thead th {\n",
       "        text-align: right;\n",
       "    }\n",
       "</style>\n",
       "<table border=\"1\" class=\"dataframe\">\n",
       "  <thead>\n",
       "    <tr style=\"text-align: right;\">\n",
       "      <th></th>\n",
       "      <th>Sales</th>\n",
       "    </tr>\n",
       "  </thead>\n",
       "  <tbody>\n",
       "    <tr>\n",
       "      <th>count</th>\n",
       "      <td>42.000000</td>\n",
       "    </tr>\n",
       "    <tr>\n",
       "      <th>mean</th>\n",
       "      <td>2994.353308</td>\n",
       "    </tr>\n",
       "    <tr>\n",
       "      <th>std</th>\n",
       "      <td>977.930896</td>\n",
       "    </tr>\n",
       "    <tr>\n",
       "      <th>min</th>\n",
       "      <td>1547.818996</td>\n",
       "    </tr>\n",
       "    <tr>\n",
       "      <th>25%</th>\n",
       "      <td>2159.714247</td>\n",
       "    </tr>\n",
       "    <tr>\n",
       "      <th>50%</th>\n",
       "      <td>2782.376999</td>\n",
       "    </tr>\n",
       "    <tr>\n",
       "      <th>75%</th>\n",
       "      <td>3609.250000</td>\n",
       "    </tr>\n",
       "    <tr>\n",
       "      <th>max</th>\n",
       "      <td>5253.000000</td>\n",
       "    </tr>\n",
       "  </tbody>\n",
       "</table>\n",
       "</div>"
      ],
      "text/plain": [
       "             Sales\n",
       "count    42.000000\n",
       "mean   2994.353308\n",
       "std     977.930896\n",
       "min    1547.818996\n",
       "25%    2159.714247\n",
       "50%    2782.376999\n",
       "75%    3609.250000\n",
       "max    5253.000000"
      ]
     },
     "execution_count": 9,
     "metadata": {},
     "output_type": "execute_result"
    }
   ],
   "source": [
    "CocaCola_Sales_Rawdata.describe()"
   ]
  },
  {
   "cell_type": "code",
   "execution_count": 10,
   "id": "a874d766",
   "metadata": {},
   "outputs": [
    {
     "data": {
      "text/plain": [
       "Index(['Quarter', 'Sales'], dtype='object')"
      ]
     },
     "execution_count": 10,
     "metadata": {},
     "output_type": "execute_result"
    }
   ],
   "source": [
    "CocaCola_Sales_Rawdata.columns"
   ]
  },
  {
   "cell_type": "code",
   "execution_count": 11,
   "id": "081c5153",
   "metadata": {},
   "outputs": [
    {
     "data": {
      "text/plain": [
       "42"
      ]
     },
     "execution_count": 11,
     "metadata": {},
     "output_type": "execute_result"
    }
   ],
   "source": [
    "len(CocaCola_Sales_Rawdata)"
   ]
  },
  {
   "cell_type": "code",
   "execution_count": 12,
   "id": "4c431687",
   "metadata": {},
   "outputs": [],
   "source": [
    "CocaCola_Sales_Rawdata=CocaCola_Sales_Rawdata.set_index('Quarter')"
   ]
  },
  {
   "cell_type": "code",
   "execution_count": 13,
   "id": "86d6a022",
   "metadata": {},
   "outputs": [
    {
     "data": {
      "text/html": [
       "<div>\n",
       "<style scoped>\n",
       "    .dataframe tbody tr th:only-of-type {\n",
       "        vertical-align: middle;\n",
       "    }\n",
       "\n",
       "    .dataframe tbody tr th {\n",
       "        vertical-align: top;\n",
       "    }\n",
       "\n",
       "    .dataframe thead th {\n",
       "        text-align: right;\n",
       "    }\n",
       "</style>\n",
       "<table border=\"1\" class=\"dataframe\">\n",
       "  <thead>\n",
       "    <tr style=\"text-align: right;\">\n",
       "      <th></th>\n",
       "      <th>Sales</th>\n",
       "    </tr>\n",
       "    <tr>\n",
       "      <th>Quarter</th>\n",
       "      <th></th>\n",
       "    </tr>\n",
       "  </thead>\n",
       "  <tbody>\n",
       "    <tr>\n",
       "      <th>Q1_86</th>\n",
       "      <td>1734.827000</td>\n",
       "    </tr>\n",
       "    <tr>\n",
       "      <th>Q2_86</th>\n",
       "      <td>2244.960999</td>\n",
       "    </tr>\n",
       "    <tr>\n",
       "      <th>Q3_86</th>\n",
       "      <td>2533.804993</td>\n",
       "    </tr>\n",
       "    <tr>\n",
       "      <th>Q4_86</th>\n",
       "      <td>2154.962997</td>\n",
       "    </tr>\n",
       "    <tr>\n",
       "      <th>Q1_87</th>\n",
       "      <td>1547.818996</td>\n",
       "    </tr>\n",
       "  </tbody>\n",
       "</table>\n",
       "</div>"
      ],
      "text/plain": [
       "               Sales\n",
       "Quarter             \n",
       "Q1_86    1734.827000\n",
       "Q2_86    2244.960999\n",
       "Q3_86    2533.804993\n",
       "Q4_86    2154.962997\n",
       "Q1_87    1547.818996"
      ]
     },
     "execution_count": 13,
     "metadata": {},
     "output_type": "execute_result"
    }
   ],
   "source": [
    "CocaCola_Sales_Rawdata.head()"
   ]
  },
  {
   "cell_type": "code",
   "execution_count": 14,
   "id": "373d70d5",
   "metadata": {},
   "outputs": [
    {
     "data": {
      "text/plain": [
       "Index(['Q1_86', 'Q2_86', 'Q3_86', 'Q4_86', 'Q1_87', 'Q2_87', 'Q3_87', 'Q4_87',\n",
       "       'Q1_88', 'Q2_88', 'Q3_88', 'Q4_88', 'Q1_89', 'Q2_89', 'Q3_89', 'Q4_89',\n",
       "       'Q1_90', 'Q2_90', 'Q3_90', 'Q4_90', 'Q1_91', 'Q2_91', 'Q3_91', 'Q4_91',\n",
       "       'Q1_92', 'Q2_92', 'Q3_92', 'Q4_92', 'Q1_93', 'Q2_93', 'Q3_93', 'Q4_93',\n",
       "       'Q1_94', 'Q2_94', 'Q3_94', 'Q4_94', 'Q1_95', 'Q2_95', 'Q3_95', 'Q4_95',\n",
       "       'Q1_96', 'Q2_96'],\n",
       "      dtype='object', name='Quarter')"
      ]
     },
     "execution_count": 14,
     "metadata": {},
     "output_type": "execute_result"
    }
   ],
   "source": [
    "CocaCola_Sales_Rawdata.index"
   ]
  },
  {
   "cell_type": "code",
   "execution_count": 15,
   "id": "09a0b158",
   "metadata": {},
   "outputs": [
    {
     "data": {
      "text/html": [
       "<div>\n",
       "<style scoped>\n",
       "    .dataframe tbody tr th:only-of-type {\n",
       "        vertical-align: middle;\n",
       "    }\n",
       "\n",
       "    .dataframe tbody tr th {\n",
       "        vertical-align: top;\n",
       "    }\n",
       "\n",
       "    .dataframe thead th {\n",
       "        text-align: right;\n",
       "    }\n",
       "</style>\n",
       "<table border=\"1\" class=\"dataframe\">\n",
       "  <thead>\n",
       "    <tr style=\"text-align: right;\">\n",
       "      <th></th>\n",
       "      <th>Sales</th>\n",
       "    </tr>\n",
       "    <tr>\n",
       "      <th>Quarter</th>\n",
       "      <th></th>\n",
       "    </tr>\n",
       "  </thead>\n",
       "  <tbody>\n",
       "    <tr>\n",
       "      <th>86-Q1</th>\n",
       "      <td>1734.827000</td>\n",
       "    </tr>\n",
       "    <tr>\n",
       "      <th>86-Q2</th>\n",
       "      <td>2244.960999</td>\n",
       "    </tr>\n",
       "    <tr>\n",
       "      <th>86-Q3</th>\n",
       "      <td>2533.804993</td>\n",
       "    </tr>\n",
       "    <tr>\n",
       "      <th>86-Q4</th>\n",
       "      <td>2154.962997</td>\n",
       "    </tr>\n",
       "    <tr>\n",
       "      <th>87-Q1</th>\n",
       "      <td>1547.818996</td>\n",
       "    </tr>\n",
       "  </tbody>\n",
       "</table>\n",
       "</div>"
      ],
      "text/plain": [
       "               Sales\n",
       "Quarter             \n",
       "86-Q1    1734.827000\n",
       "86-Q2    2244.960999\n",
       "86-Q3    2533.804993\n",
       "86-Q4    2154.962997\n",
       "87-Q1    1547.818996"
      ]
     },
     "execution_count": 15,
     "metadata": {},
     "output_type": "execute_result"
    }
   ],
   "source": [
    "CocaCola_Sales_Rawdata.index = CocaCola_Sales_Rawdata.index.str.replace(r'(Q\\d)_(\\d+)', r'\\2-\\1')\n",
    "CocaCola_Sales_Rawdata.head()"
   ]
  },
  {
   "cell_type": "code",
   "execution_count": 16,
   "id": "483ddd52",
   "metadata": {},
   "outputs": [
    {
     "data": {
      "text/html": [
       "<div>\n",
       "<style scoped>\n",
       "    .dataframe tbody tr th:only-of-type {\n",
       "        vertical-align: middle;\n",
       "    }\n",
       "\n",
       "    .dataframe tbody tr th {\n",
       "        vertical-align: top;\n",
       "    }\n",
       "\n",
       "    .dataframe thead th {\n",
       "        text-align: right;\n",
       "    }\n",
       "</style>\n",
       "<table border=\"1\" class=\"dataframe\">\n",
       "  <thead>\n",
       "    <tr style=\"text-align: right;\">\n",
       "      <th></th>\n",
       "      <th>Sales</th>\n",
       "    </tr>\n",
       "    <tr>\n",
       "      <th>Quarter</th>\n",
       "      <th></th>\n",
       "    </tr>\n",
       "  </thead>\n",
       "  <tbody>\n",
       "    <tr>\n",
       "      <th>2086-01-01</th>\n",
       "      <td>1734.827000</td>\n",
       "    </tr>\n",
       "    <tr>\n",
       "      <th>2086-04-01</th>\n",
       "      <td>2244.960999</td>\n",
       "    </tr>\n",
       "    <tr>\n",
       "      <th>2086-07-01</th>\n",
       "      <td>2533.804993</td>\n",
       "    </tr>\n",
       "    <tr>\n",
       "      <th>2086-10-01</th>\n",
       "      <td>2154.962997</td>\n",
       "    </tr>\n",
       "    <tr>\n",
       "      <th>2087-01-01</th>\n",
       "      <td>1547.818996</td>\n",
       "    </tr>\n",
       "  </tbody>\n",
       "</table>\n",
       "</div>"
      ],
      "text/plain": [
       "                  Sales\n",
       "Quarter                \n",
       "2086-01-01  1734.827000\n",
       "2086-04-01  2244.960999\n",
       "2086-07-01  2533.804993\n",
       "2086-10-01  2154.962997\n",
       "2087-01-01  1547.818996"
      ]
     },
     "execution_count": 16,
     "metadata": {},
     "output_type": "execute_result"
    }
   ],
   "source": [
    "CocaCola_Sales_Rawdata.index = pd.PeriodIndex(CocaCola_Sales_Rawdata.index, freq='Q').to_timestamp()\n",
    "CocaCola_Sales_Rawdata.head()"
   ]
  },
  {
   "cell_type": "code",
   "execution_count": 17,
   "id": "fe6d46f9",
   "metadata": {},
   "outputs": [
    {
     "data": {
      "text/plain": [
       "DatetimeIndex(['2086-01-01', '2086-04-01', '2086-07-01', '2086-10-01',\n",
       "               '2087-01-01', '2087-04-01', '2087-07-01', '2087-10-01',\n",
       "               '2088-01-01', '2088-04-01', '2088-07-01', '2088-10-01',\n",
       "               '2089-01-01', '2089-04-01', '2089-07-01', '2089-10-01',\n",
       "               '2090-01-01', '2090-04-01', '2090-07-01', '2090-10-01',\n",
       "               '2091-01-01', '2091-04-01', '2091-07-01', '2091-10-01',\n",
       "               '2092-01-01', '2092-04-01', '2092-07-01', '2092-10-01',\n",
       "               '2093-01-01', '2093-04-01', '2093-07-01', '2093-10-01',\n",
       "               '2094-01-01', '2094-04-01', '2094-07-01', '2094-10-01',\n",
       "               '2095-01-01', '2095-04-01', '2095-07-01', '2095-10-01',\n",
       "               '2096-01-01', '2096-04-01'],\n",
       "              dtype='datetime64[ns]', name='Quarter', freq='QS-OCT')"
      ]
     },
     "execution_count": 17,
     "metadata": {},
     "output_type": "execute_result"
    }
   ],
   "source": [
    "CocaCola_Sales_Rawdata.index"
   ]
  },
  {
   "cell_type": "markdown",
   "id": "992a63fb",
   "metadata": {},
   "source": [
    "## Visualization"
   ]
  },
  {
   "cell_type": "markdown",
   "id": "0ea314ce",
   "metadata": {},
   "source": [
    "### 1. Line Plot"
   ]
  },
  {
   "cell_type": "code",
   "execution_count": 18,
   "id": "be0466a9",
   "metadata": {},
   "outputs": [
    {
     "data": {
      "text/plain": [
       "<AxesSubplot:xlabel='Quarter'>"
      ]
     },
     "execution_count": 18,
     "metadata": {},
     "output_type": "execute_result"
    },
    {
     "data": {
      "image/png": "[encoded data removed]",
      "text/plain": [
       "<Figure size 864x288 with 1 Axes>"
      ]
     },
     "metadata": {
      "needs_background": "light"
     },
     "output_type": "display_data"
    }
   ],
   "source": [
    "CocaCola_Sales_Rawdata.plot(figsize=(12,4))"
   ]
  },
  {
   "cell_type": "markdown",
   "id": "3618814f",
   "metadata": {},
   "source": [
    "### 2. Histogram"
   ]
  },
  {
   "cell_type": "code",
   "execution_count": 19,
   "id": "1e6035bf",
   "metadata": {},
   "outputs": [
    {
     "data": {
      "text/plain": [
       "array([[<AxesSubplot:title={'center':'Sales'}>]], dtype=object)"
      ]
     },
     "execution_count": 19,
     "metadata": {},
     "output_type": "execute_result"
    },
    {
     "data": {
      "image/png": "[encoded data removed]",
      "text/plain": [
       "<Figure size 864x288 with 1 Axes>"
      ]
     },
     "metadata": {
      "needs_background": "light"
     },
     "output_type": "display_data"
    }
   ],
   "source": [
    "CocaCola_Sales_Rawdata.hist(figsize=(12,4))"
   ]
  },
  {
   "cell_type": "markdown",
   "id": "fc37c1a3",
   "metadata": {},
   "source": [
    "## Time Series Decomposition"
   ]
  },
  {
   "cell_type": "markdown",
   "id": "e3cc96ab",
   "metadata": {},
   "source": [
    "### a. Additive Seasonal Decompose"
   ]
  },
  {
   "cell_type": "code",
   "execution_count": 20,
   "id": "56355d6b",
   "metadata": {},
   "outputs": [
    {
     "data": {
      "image/png": "[encoded data removed]",
      "text/plain": [
       "<Figure size 432x288 with 4 Axes>"
      ]
     },
     "metadata": {
      "needs_background": "light"
     },
     "output_type": "display_data"
    }
   ],
   "source": [
    "decompose_ts_add = seasonal_decompose(CocaCola_Sales_Rawdata.Sales,model=\"additive\",period=4)\n",
    "decompose_ts_add.plot()\n",
    "plt.show()"
   ]
  },
  {
   "cell_type": "markdown",
   "id": "f7b9c8f7",
   "metadata": {},
   "source": [
    "### b. Multiplicative Seasonal Decompose"
   ]
  },
  {
   "cell_type": "code",
   "execution_count": 21,
   "id": "d8999ecd",
   "metadata": {},
   "outputs": [
    {
     "data": {
      "image/png": "[encoded data removed]",
      "text/plain": [
       "<Figure size 432x288 with 4 Axes>"
      ]
     },
     "metadata": {
      "needs_background": "light"
     },
     "output_type": "display_data"
    }
   ],
   "source": [
    "decompose_ts_mul= seasonal_decompose((CocaCola_Sales_Rawdata.values),model='multiplicative',period=4)\n",
    "decompose_ts_mul.plot()\n",
    "plt.show()"
   ]
  },
  {
   "cell_type": "markdown",
   "id": "49602bfb",
   "metadata": {},
   "source": [
    "## Splitting Data into Training and Testing Data"
   ]
  },
  {
   "cell_type": "code",
   "execution_count": 22,
   "id": "e49980ae",
   "metadata": {},
   "outputs": [],
   "source": [
    "CocaCola_Sales_Rawdata_train=CocaCola_Sales_Rawdata[0:28]\n",
    "CocaCola_Sales_Rawdata_test=CocaCola_Sales_Rawdata[28:]"
   ]
  },
  {
   "cell_type": "code",
   "execution_count": 23,
   "id": "7b562407",
   "metadata": {},
   "outputs": [
    {
     "data": {
      "text/plain": [
       "28"
      ]
     },
     "execution_count": 23,
     "metadata": {},
     "output_type": "execute_result"
    }
   ],
   "source": [
    "len(CocaCola_Sales_Rawdata_train)"
   ]
  },
  {
   "cell_type": "code",
   "execution_count": 24,
   "id": "b5921372",
   "metadata": {},
   "outputs": [
    {
     "data": {
      "text/plain": [
       "14"
      ]
     },
     "execution_count": 24,
     "metadata": {},
     "output_type": "execute_result"
    }
   ],
   "source": [
    "len(CocaCola_Sales_Rawdata_test)"
   ]
  },
  {
   "cell_type": "markdown",
   "id": "349e2255",
   "metadata": {},
   "source": [
    "## Method of Forecasting"
   ]
  },
  {
   "cell_type": "markdown",
   "id": "512c7668",
   "metadata": {},
   "source": [
    "### 1. Simple Moving Average"
   ]
  },
  {
   "cell_type": "code",
   "execution_count": 25,
   "id": "a45efed3",
   "metadata": {},
   "outputs": [],
   "source": [
    "CocaCola_Sales_Rawdata_ma=CocaCola_Sales_Rawdata.copy()"
   ]
  },
  {
   "cell_type": "code",
   "execution_count": 26,
   "id": "e1f8c608",
   "metadata": {},
   "outputs": [],
   "source": [
    "CocaCola_Sales_Rawdata_train_len=28"
   ]
  },
  {
   "cell_type": "code",
   "execution_count": 27,
   "id": "bed96733",
   "metadata": {},
   "outputs": [],
   "source": [
    "roll_val=[]\n",
    "rmse_val=[]\n",
    "\n",
    "for i in range(4,28,4):\n",
    "    CocaCola_Sales_Rawdata_ma['ma_forecast'] = CocaCola_Sales_Rawdata_ma['Sales'].rolling(i).mean()\n",
    "    CocaCola_Sales_Rawdata_ma['ma_forecast'][CocaCola_Sales_Rawdata_train_len:] = CocaCola_Sales_Rawdata_ma['ma_forecast'][CocaCola_Sales_Rawdata_train_len-1]\n",
    "    rmse_ma = mean_squared_error(CocaCola_Sales_Rawdata_test['Sales'],CocaCola_Sales_Rawdata_ma['ma_forecast'][CocaCola_Sales_Rawdata_train_len:],squared=False).round(2)\n",
    "    roll_val.append(i)\n",
    "    rmse_val.append(rmse_ma)\n"
   ]
  },
  {
   "cell_type": "code",
   "execution_count": 28,
   "id": "7ee287b9",
   "metadata": {},
   "outputs": [
    {
     "data": {
      "text/plain": [
       "1049.59"
      ]
     },
     "execution_count": 28,
     "metadata": {},
     "output_type": "execute_result"
    }
   ],
   "source": [
    "CocaCola_Sales_Rawdata_ma['ma_forecast'] = CocaCola_Sales_Rawdata_ma['Sales'].rolling(4).mean()\n",
    "CocaCola_Sales_Rawdata_ma['ma_forecast'][CocaCola_Sales_Rawdata_train_len:] = CocaCola_Sales_Rawdata_ma['ma_forecast'][CocaCola_Sales_Rawdata_train_len-1]\n",
    "rmse_ma = mean_squared_error(CocaCola_Sales_Rawdata_test['Sales'],CocaCola_Sales_Rawdata_ma['ma_forecast'][CocaCola_Sales_Rawdata_train_len:],squared=False).round(2)\n",
    "rmse_ma"
   ]
  },
  {
   "cell_type": "code",
   "execution_count": 29,
   "id": "805dba31",
   "metadata": {},
   "outputs": [
    {
     "data": {
      "text/plain": [
       "<matplotlib.legend.Legend at 0x15cd1d37df0>"
      ]
     },
     "execution_count": 29,
     "metadata": {},
     "output_type": "execute_result"
    },
    {
     "data": {
      "image/png": "[encoded data removed]",
      "text/plain": [
       "<Figure size 864x288 with 1 Axes>"
      ]
     },
     "metadata": {
      "needs_background": "light"
     },
     "output_type": "display_data"
    }
   ],
   "source": [
    "plt.figure(figsize=(12,4))\n",
    "CocaCola_Sales_Rawdata.Sales.plot(label=\"org\")\n",
    "for i in range(2,8,2):\n",
    "    CocaCola_Sales_Rawdata[\"Sales\"].rolling(i).mean().plot(label=str(i))\n",
    "plt.legend(loc='best')"
   ]
  },
  {
   "cell_type": "markdown",
   "id": "d70adf8e",
   "metadata": {},
   "source": [
    "### Evaluation Metric RMSE"
   ]
  },
  {
   "cell_type": "code",
   "execution_count": 30,
   "id": "f11a8e19",
   "metadata": {},
   "outputs": [],
   "source": [
    "def RMSE(org, pred):\n",
    "    rmse=np.sqrt(np.mean((np.array(org)-np.array(pred))**2))\n",
    "    return rmse"
   ]
  },
  {
   "cell_type": "markdown",
   "id": "7a02031e",
   "metadata": {},
   "source": [
    "### 2. Simple Exponential Method"
   ]
  },
  {
   "cell_type": "code",
   "execution_count": 31,
   "id": "5677f434",
   "metadata": {},
   "outputs": [
    {
     "data": {
      "text/plain": [
       "1028.4750927894122"
      ]
     },
     "execution_count": 31,
     "metadata": {},
     "output_type": "execute_result"
    }
   ],
   "source": [
    "ses_model = SimpleExpSmoothing(CocaCola_Sales_Rawdata_train[\"Sales\"]).fit()\n",
    "pred_ses = ses_model.predict(start = CocaCola_Sales_Rawdata_test.index[0],end = CocaCola_Sales_Rawdata_test.index[-1])\n",
    "rmse_ses_model= RMSE(CocaCola_Sales_Rawdata_test.Sales, pred_ses)\n",
    "rmse_ses_model"
   ]
  },
  {
   "cell_type": "markdown",
   "id": "6b17af77",
   "metadata": {},
   "source": [
    "## 3. Holt Method"
   ]
  },
  {
   "cell_type": "code",
   "execution_count": 32,
   "id": "d0f8dc10",
   "metadata": {},
   "outputs": [
    {
     "data": {
      "text/plain": [
       "428.66228023143833"
      ]
     },
     "execution_count": 32,
     "metadata": {},
     "output_type": "execute_result"
    }
   ],
   "source": [
    "hw_model = Holt(CocaCola_Sales_Rawdata_train[\"Sales\"]).fit()\n",
    "pred_hw = hw_model.predict(start = CocaCola_Sales_Rawdata_test.index[0],end =CocaCola_Sales_Rawdata_test.index[-1])\n",
    "rmse_hw_model = RMSE(CocaCola_Sales_Rawdata_test.Sales, pred_hw)\n",
    "rmse_hw_model"
   ]
  },
  {
   "cell_type": "markdown",
   "id": "483f8788",
   "metadata": {},
   "source": [
    "### a.  Holts winter exponential smoothing with additive seasonality and additive trend"
   ]
  },
  {
   "cell_type": "code",
   "execution_count": 33,
   "id": "3ddad1a6",
   "metadata": {},
   "outputs": [
    {
     "data": {
      "text/plain": [
       "546.144302460468"
      ]
     },
     "execution_count": 33,
     "metadata": {},
     "output_type": "execute_result"
    }
   ],
   "source": [
    "hwe_model_add_add = ExponentialSmoothing(CocaCola_Sales_Rawdata_train[\"Sales\"],seasonal=\"add\",trend=\"add\",seasonal_periods=12).fit()\n",
    "pred_hwe_add_add = hwe_model_add_add.predict(start = CocaCola_Sales_Rawdata_test.index[0],end = CocaCola_Sales_Rawdata_test.index[-1])\n",
    "rmse_hwe_add_add_model = RMSE(CocaCola_Sales_Rawdata_test.Sales, pred_hwe_add_add)\n",
    "rmse_hwe_add_add_model"
   ]
  },
  {
   "cell_type": "markdown",
   "id": "24e9a210",
   "metadata": {},
   "source": [
    "### b. Holts winter exponential smoothing with multiplicative seasonality and additive trend"
   ]
  },
  {
   "cell_type": "code",
   "execution_count": 34,
   "id": "b5f36d2b",
   "metadata": {},
   "outputs": [
    {
     "data": {
      "text/plain": [
       "720.9701796357706"
      ]
     },
     "execution_count": 34,
     "metadata": {},
     "output_type": "execute_result"
    }
   ],
   "source": [
    "hwe_model_mul_add = ExponentialSmoothing(CocaCola_Sales_Rawdata_train[\"Sales\"],seasonal=\"mul\",trend=\"add\",seasonal_periods=12).fit() \n",
    "pred_hwe_mul_add = hwe_model_mul_add.predict(start = CocaCola_Sales_Rawdata_test.index[0],end =  CocaCola_Sales_Rawdata_test.index[-1])\n",
    "rmse_hwe_model_mul_add_model = RMSE( CocaCola_Sales_Rawdata_test.Sales, pred_hwe_mul_add)\n",
    "rmse_hwe_model_mul_add_model"
   ]
  },
  {
   "cell_type": "markdown",
   "id": "342f28b3",
   "metadata": {},
   "source": [
    "## 4. ARIMA Model"
   ]
  },
  {
   "cell_type": "markdown",
   "id": "8d1ff89e",
   "metadata": {},
   "source": [
    "### a. acf plot"
   ]
  },
  {
   "cell_type": "code",
   "execution_count": 35,
   "id": "096997d7",
   "metadata": {},
   "outputs": [
    {
     "data": {
      "image/png": "[encoded data removed]",
      "text/plain": [
       "<Figure size 864x288 with 1 Axes>"
      ]
     },
     "metadata": {
      "needs_background": "light"
     },
     "output_type": "display_data"
    }
   ],
   "source": [
    "# Show autocorrelation upto lag 20\n",
    "plt.figure(figsize=(12,4))\n",
    "acf_plot = plot_acf(CocaCola_Sales_Rawdata['Sales'],ax=plt.gca(),lags=20)\n",
    "plt.show()"
   ]
  },
  {
   "cell_type": "markdown",
   "id": "074d05fb",
   "metadata": {},
   "source": [
    "### b. pacf plot"
   ]
  },
  {
   "cell_type": "code",
   "execution_count": 36,
   "id": "2e8d3566",
   "metadata": {},
   "outputs": [
    {
     "data": {
      "image/png": "[encoded data removed]",
      "text/plain": [
       "<Figure size 864x288 with 1 Axes>"
      ]
     },
     "metadata": {
      "needs_background": "light"
     },
     "output_type": "display_data"
    }
   ],
   "source": [
    "plt.figure(figsize=(12,4))\n",
    "pacf_plot = plot_pacf(CocaCola_Sales_Rawdata['Sales'],ax=plt.gca(),lags=20)\n",
    "plt.show()"
   ]
  },
  {
   "cell_type": "code",
   "execution_count": 37,
   "id": "a3828cd6",
   "metadata": {},
   "outputs": [
    {
     "data": {
      "text/plain": [
       "1062.27"
      ]
     },
     "execution_count": 37,
     "metadata": {},
     "output_type": "execute_result"
    }
   ],
   "source": [
    "arima = ARIMA(CocaCola_Sales_Rawdata_train['Sales'], order=(1,1,1)).fit()\n",
    "pred_arima= arima.predict(start = CocaCola_Sales_Rawdata_test.index[0],end = CocaCola_Sales_Rawdata_test.index[-1])\n",
    "rmse_arima = mean_squared_error(CocaCola_Sales_Rawdata_test['Sales'],pred_arima,squared=False).round(2)\n",
    "rmse_arima"
   ]
  },
  {
   "cell_type": "markdown",
   "id": "a849e48d",
   "metadata": {},
   "source": [
    "## Choosing the best model"
   ]
  },
  {
   "cell_type": "code",
   "execution_count": 38,
   "id": "5d9e0a64",
   "metadata": {},
   "outputs": [
    {
     "data": {
      "text/html": [
       "<div>\n",
       "<style scoped>\n",
       "    .dataframe tbody tr th:only-of-type {\n",
       "        vertical-align: middle;\n",
       "    }\n",
       "\n",
       "    .dataframe tbody tr th {\n",
       "        vertical-align: top;\n",
       "    }\n",
       "\n",
       "    .dataframe thead th {\n",
       "        text-align: right;\n",
       "    }\n",
       "</style>\n",
       "<table border=\"1\" class=\"dataframe\">\n",
       "  <thead>\n",
       "    <tr style=\"text-align: right;\">\n",
       "      <th></th>\n",
       "      <th>Models</th>\n",
       "      <th>Rmse</th>\n",
       "    </tr>\n",
       "  </thead>\n",
       "  <tbody>\n",
       "    <tr>\n",
       "      <th>0</th>\n",
       "      <td>Simple_Moving_Average</td>\n",
       "      <td>1049.590000</td>\n",
       "    </tr>\n",
       "    <tr>\n",
       "      <th>1</th>\n",
       "      <td>Simple_Exponential_Smoothing</td>\n",
       "      <td>1028.475093</td>\n",
       "    </tr>\n",
       "    <tr>\n",
       "      <th>2</th>\n",
       "      <td>Holt</td>\n",
       "      <td>428.662280</td>\n",
       "    </tr>\n",
       "    <tr>\n",
       "      <th>3</th>\n",
       "      <td>Holt_additive</td>\n",
       "      <td>546.144302</td>\n",
       "    </tr>\n",
       "    <tr>\n",
       "      <th>4</th>\n",
       "      <td>Holt_multiplicative</td>\n",
       "      <td>720.970180</td>\n",
       "    </tr>\n",
       "    <tr>\n",
       "      <th>5</th>\n",
       "      <td>ARIMA</td>\n",
       "      <td>1062.270000</td>\n",
       "    </tr>\n",
       "  </tbody>\n",
       "</table>\n",
       "</div>"
      ],
      "text/plain": [
       "                         Models         Rmse\n",
       "0         Simple_Moving_Average  1049.590000\n",
       "1  Simple_Exponential_Smoothing  1028.475093\n",
       "2                          Holt   428.662280\n",
       "3                 Holt_additive   546.144302\n",
       "4           Holt_multiplicative   720.970180\n",
       "5                         ARIMA  1062.270000"
      ]
     },
     "execution_count": 38,
     "metadata": {},
     "output_type": "execute_result"
    }
   ],
   "source": [
    "models=['Simple_Moving_Average','Simple_Exponential_Smoothing','Holt','Holt_additive','Holt_multiplicative','ARIMA']\n",
    "rmse=[rmse_ma,rmse_ses_model,rmse_hw_model,rmse_hwe_add_add_model,rmse_hwe_model_mul_add_model,rmse_arima]\n",
    "d={'Models':models,'Rmse':rmse}\n",
    "CocaCola_Sales_Rawdata_model=pd.DataFrame(d)\n",
    "CocaCola_Sales_Rawdata_model"
   ]
  },
  {
   "cell_type": "code",
   "execution_count": 39,
   "id": "e356d32a",
   "metadata": {},
   "outputs": [
    {
     "data": {
      "text/html": [
       "<div>\n",
       "<style scoped>\n",
       "    .dataframe tbody tr th:only-of-type {\n",
       "        vertical-align: middle;\n",
       "    }\n",
       "\n",
       "    .dataframe tbody tr th {\n",
       "        vertical-align: top;\n",
       "    }\n",
       "\n",
       "    .dataframe thead th {\n",
       "        text-align: right;\n",
       "    }\n",
       "</style>\n",
       "<table border=\"1\" class=\"dataframe\">\n",
       "  <thead>\n",
       "    <tr style=\"text-align: right;\">\n",
       "      <th></th>\n",
       "      <th>Models</th>\n",
       "      <th>Rmse</th>\n",
       "    </tr>\n",
       "  </thead>\n",
       "  <tbody>\n",
       "    <tr>\n",
       "      <th>2</th>\n",
       "      <td>Holt</td>\n",
       "      <td>428.662280</td>\n",
       "    </tr>\n",
       "    <tr>\n",
       "      <th>3</th>\n",
       "      <td>Holt_additive</td>\n",
       "      <td>546.144302</td>\n",
       "    </tr>\n",
       "    <tr>\n",
       "      <th>4</th>\n",
       "      <td>Holt_multiplicative</td>\n",
       "      <td>720.970180</td>\n",
       "    </tr>\n",
       "    <tr>\n",
       "      <th>1</th>\n",
       "      <td>Simple_Exponential_Smoothing</td>\n",
       "      <td>1028.475093</td>\n",
       "    </tr>\n",
       "    <tr>\n",
       "      <th>0</th>\n",
       "      <td>Simple_Moving_Average</td>\n",
       "      <td>1049.590000</td>\n",
       "    </tr>\n",
       "    <tr>\n",
       "      <th>5</th>\n",
       "      <td>ARIMA</td>\n",
       "      <td>1062.270000</td>\n",
       "    </tr>\n",
       "  </tbody>\n",
       "</table>\n",
       "</div>"
      ],
      "text/plain": [
       "                         Models         Rmse\n",
       "2                          Holt   428.662280\n",
       "3                 Holt_additive   546.144302\n",
       "4           Holt_multiplicative   720.970180\n",
       "1  Simple_Exponential_Smoothing  1028.475093\n",
       "0         Simple_Moving_Average  1049.590000\n",
       "5                         ARIMA  1062.270000"
      ]
     },
     "execution_count": 39,
     "metadata": {},
     "output_type": "execute_result"
    }
   ],
   "source": [
    "CocaCola_Sales_Rawdata_model.sort_values(by='Rmse')"
   ]
  },
  {
   "cell_type": "markdown",
   "id": "698bc283",
   "metadata": {},
   "source": [
    "## Inference"
   ]
  },
  {
   "cell_type": "markdown",
   "id": "c3e5562f",
   "metadata": {},
   "source": [
    "#### Holt Method is the best model as it has least Rmse."
   ]
  },
  {
   "cell_type": "code",
   "execution_count": null,
   "id": "355c7805",
   "metadata": {},
   "outputs": [],
   "source": []
  },
  {
   "cell_type": "markdown",
   "id": "0a7ecac0",
   "metadata": {},
   "source": [
    "# Q.2. Airlines+Data"
   ]
  },
  {
   "cell_type": "markdown",
   "id": "f06ffcb8",
   "metadata": {},
   "source": [
    "## Importing Data"
   ]
  },
  {
   "cell_type": "code",
   "execution_count": 40,
   "id": "5c5e1bc3",
   "metadata": {},
   "outputs": [],
   "source": [
    "Airlines_data = pd.read_excel('Airlines+Data.xlsx')"
   ]
  },
  {
   "cell_type": "code",
   "execution_count": 41,
   "id": "781b9438",
   "metadata": {},
   "outputs": [
    {
     "data": {
      "text/html": [
       "<div>\n",
       "<style scoped>\n",
       "    .dataframe tbody tr th:only-of-type {\n",
       "        vertical-align: middle;\n",
       "    }\n",
       "\n",
       "    .dataframe tbody tr th {\n",
       "        vertical-align: top;\n",
       "    }\n",
       "\n",
       "    .dataframe thead th {\n",
       "        text-align: right;\n",
       "    }\n",
       "</style>\n",
       "<table border=\"1\" class=\"dataframe\">\n",
       "  <thead>\n",
       "    <tr style=\"text-align: right;\">\n",
       "      <th></th>\n",
       "      <th>Month</th>\n",
       "      <th>Passengers</th>\n",
       "    </tr>\n",
       "  </thead>\n",
       "  <tbody>\n",
       "    <tr>\n",
       "      <th>0</th>\n",
       "      <td>1995-01-01</td>\n",
       "      <td>112</td>\n",
       "    </tr>\n",
       "    <tr>\n",
       "      <th>1</th>\n",
       "      <td>1995-02-01</td>\n",
       "      <td>118</td>\n",
       "    </tr>\n",
       "    <tr>\n",
       "      <th>2</th>\n",
       "      <td>1995-03-01</td>\n",
       "      <td>132</td>\n",
       "    </tr>\n",
       "    <tr>\n",
       "      <th>3</th>\n",
       "      <td>1995-04-01</td>\n",
       "      <td>129</td>\n",
       "    </tr>\n",
       "    <tr>\n",
       "      <th>4</th>\n",
       "      <td>1995-05-01</td>\n",
       "      <td>121</td>\n",
       "    </tr>\n",
       "  </tbody>\n",
       "</table>\n",
       "</div>"
      ],
      "text/plain": [
       "       Month  Passengers\n",
       "0 1995-01-01         112\n",
       "1 1995-02-01         118\n",
       "2 1995-03-01         132\n",
       "3 1995-04-01         129\n",
       "4 1995-05-01         121"
      ]
     },
     "execution_count": 41,
     "metadata": {},
     "output_type": "execute_result"
    }
   ],
   "source": [
    "Airlines_data.head()"
   ]
  },
  {
   "cell_type": "markdown",
   "id": "0be1b466",
   "metadata": {},
   "source": [
    "## EDA"
   ]
  },
  {
   "cell_type": "code",
   "execution_count": 42,
   "id": "19c6737e",
   "metadata": {},
   "outputs": [
    {
     "data": {
      "text/plain": [
       "(96, 2)"
      ]
     },
     "execution_count": 42,
     "metadata": {},
     "output_type": "execute_result"
    }
   ],
   "source": [
    "Airlines_data.shape"
   ]
  },
  {
   "cell_type": "code",
   "execution_count": 43,
   "id": "8edab5cc",
   "metadata": {},
   "outputs": [
    {
     "name": "stdout",
     "output_type": "stream",
     "text": [
      "<class 'pandas.core.frame.DataFrame'>\n",
      "RangeIndex: 96 entries, 0 to 95\n",
      "Data columns (total 2 columns):\n",
      " #   Column      Non-Null Count  Dtype         \n",
      "---  ------      --------------  -----         \n",
      " 0   Month       96 non-null     datetime64[ns]\n",
      " 1   Passengers  96 non-null     int64         \n",
      "dtypes: datetime64[ns](1), int64(1)\n",
      "memory usage: 1.6 KB\n"
     ]
    }
   ],
   "source": [
    "Airlines_data.info()"
   ]
  },
  {
   "cell_type": "code",
   "execution_count": 44,
   "id": "f0d0a80e",
   "metadata": {},
   "outputs": [
    {
     "data": {
      "text/plain": [
       "Month         datetime64[ns]\n",
       "Passengers             int64\n",
       "dtype: object"
      ]
     },
     "execution_count": 44,
     "metadata": {},
     "output_type": "execute_result"
    }
   ],
   "source": [
    "Airlines_data.dtypes"
   ]
  },
  {
   "cell_type": "code",
   "execution_count": 45,
   "id": "1091d92c",
   "metadata": {},
   "outputs": [
    {
     "data": {
      "text/plain": [
       "Month         0\n",
       "Passengers    0\n",
       "dtype: int64"
      ]
     },
     "execution_count": 45,
     "metadata": {},
     "output_type": "execute_result"
    }
   ],
   "source": [
    "Airlines_data.isnull().sum()"
   ]
  },
  {
   "cell_type": "code",
   "execution_count": 46,
   "id": "0e244cad",
   "metadata": {},
   "outputs": [
    {
     "data": {
      "text/html": [
       "<div>\n",
       "<style scoped>\n",
       "    .dataframe tbody tr th:only-of-type {\n",
       "        vertical-align: middle;\n",
       "    }\n",
       "\n",
       "    .dataframe tbody tr th {\n",
       "        vertical-align: top;\n",
       "    }\n",
       "\n",
       "    .dataframe thead th {\n",
       "        text-align: right;\n",
       "    }\n",
       "</style>\n",
       "<table border=\"1\" class=\"dataframe\">\n",
       "  <thead>\n",
       "    <tr style=\"text-align: right;\">\n",
       "      <th></th>\n",
       "      <th>Passengers</th>\n",
       "    </tr>\n",
       "  </thead>\n",
       "  <tbody>\n",
       "    <tr>\n",
       "      <th>count</th>\n",
       "      <td>96.000000</td>\n",
       "    </tr>\n",
       "    <tr>\n",
       "      <th>mean</th>\n",
       "      <td>213.708333</td>\n",
       "    </tr>\n",
       "    <tr>\n",
       "      <th>std</th>\n",
       "      <td>71.918216</td>\n",
       "    </tr>\n",
       "    <tr>\n",
       "      <th>min</th>\n",
       "      <td>104.000000</td>\n",
       "    </tr>\n",
       "    <tr>\n",
       "      <th>25%</th>\n",
       "      <td>156.000000</td>\n",
       "    </tr>\n",
       "    <tr>\n",
       "      <th>50%</th>\n",
       "      <td>200.000000</td>\n",
       "    </tr>\n",
       "    <tr>\n",
       "      <th>75%</th>\n",
       "      <td>264.750000</td>\n",
       "    </tr>\n",
       "    <tr>\n",
       "      <th>max</th>\n",
       "      <td>413.000000</td>\n",
       "    </tr>\n",
       "  </tbody>\n",
       "</table>\n",
       "</div>"
      ],
      "text/plain": [
       "       Passengers\n",
       "count   96.000000\n",
       "mean   213.708333\n",
       "std     71.918216\n",
       "min    104.000000\n",
       "25%    156.000000\n",
       "50%    200.000000\n",
       "75%    264.750000\n",
       "max    413.000000"
      ]
     },
     "execution_count": 46,
     "metadata": {},
     "output_type": "execute_result"
    }
   ],
   "source": [
    "Airlines_data.describe()"
   ]
  },
  {
   "cell_type": "code",
   "execution_count": 47,
   "id": "5f41233d",
   "metadata": {},
   "outputs": [],
   "source": [
    "Airlines_data.set_index('Month', inplace=True)"
   ]
  },
  {
   "cell_type": "code",
   "execution_count": 48,
   "id": "b6c02c7c",
   "metadata": {},
   "outputs": [
    {
     "data": {
      "text/html": [
       "<div>\n",
       "<style scoped>\n",
       "    .dataframe tbody tr th:only-of-type {\n",
       "        vertical-align: middle;\n",
       "    }\n",
       "\n",
       "    .dataframe tbody tr th {\n",
       "        vertical-align: top;\n",
       "    }\n",
       "\n",
       "    .dataframe thead th {\n",
       "        text-align: right;\n",
       "    }\n",
       "</style>\n",
       "<table border=\"1\" class=\"dataframe\">\n",
       "  <thead>\n",
       "    <tr style=\"text-align: right;\">\n",
       "      <th></th>\n",
       "      <th>Passengers</th>\n",
       "    </tr>\n",
       "    <tr>\n",
       "      <th>Month</th>\n",
       "      <th></th>\n",
       "    </tr>\n",
       "  </thead>\n",
       "  <tbody>\n",
       "    <tr>\n",
       "      <th>1995-01-01</th>\n",
       "      <td>112</td>\n",
       "    </tr>\n",
       "    <tr>\n",
       "      <th>1995-02-01</th>\n",
       "      <td>118</td>\n",
       "    </tr>\n",
       "    <tr>\n",
       "      <th>1995-03-01</th>\n",
       "      <td>132</td>\n",
       "    </tr>\n",
       "    <tr>\n",
       "      <th>1995-04-01</th>\n",
       "      <td>129</td>\n",
       "    </tr>\n",
       "    <tr>\n",
       "      <th>1995-05-01</th>\n",
       "      <td>121</td>\n",
       "    </tr>\n",
       "    <tr>\n",
       "      <th>...</th>\n",
       "      <td>...</td>\n",
       "    </tr>\n",
       "    <tr>\n",
       "      <th>2002-08-01</th>\n",
       "      <td>405</td>\n",
       "    </tr>\n",
       "    <tr>\n",
       "      <th>2002-09-01</th>\n",
       "      <td>355</td>\n",
       "    </tr>\n",
       "    <tr>\n",
       "      <th>2002-10-01</th>\n",
       "      <td>306</td>\n",
       "    </tr>\n",
       "    <tr>\n",
       "      <th>2002-11-01</th>\n",
       "      <td>271</td>\n",
       "    </tr>\n",
       "    <tr>\n",
       "      <th>2002-12-01</th>\n",
       "      <td>306</td>\n",
       "    </tr>\n",
       "  </tbody>\n",
       "</table>\n",
       "<p>96 rows × 1 columns</p>\n",
       "</div>"
      ],
      "text/plain": [
       "            Passengers\n",
       "Month                 \n",
       "1995-01-01         112\n",
       "1995-02-01         118\n",
       "1995-03-01         132\n",
       "1995-04-01         129\n",
       "1995-05-01         121\n",
       "...                ...\n",
       "2002-08-01         405\n",
       "2002-09-01         355\n",
       "2002-10-01         306\n",
       "2002-11-01         271\n",
       "2002-12-01         306\n",
       "\n",
       "[96 rows x 1 columns]"
      ]
     },
     "execution_count": 48,
     "metadata": {},
     "output_type": "execute_result"
    }
   ],
   "source": [
    "Airlines_data"
   ]
  },
  {
   "cell_type": "code",
   "execution_count": 49,
   "id": "0667c67e",
   "metadata": {},
   "outputs": [
    {
     "data": {
      "text/plain": [
       "DatetimeIndex(['1995-01-01', '1995-02-01', '1995-03-01', '1995-04-01',\n",
       "               '1995-05-01', '1995-06-01', '1995-07-01', '1995-08-01',\n",
       "               '1995-09-01', '1995-10-01', '1995-11-01', '1995-12-01',\n",
       "               '1996-01-01', '1996-02-01', '1996-03-01', '1996-04-01',\n",
       "               '1996-05-01', '1996-06-01', '1996-07-01', '1996-08-01',\n",
       "               '1996-09-01', '1996-10-01', '1996-11-01', '1996-12-01',\n",
       "               '1997-01-01', '1997-02-01', '1997-03-01', '1997-04-01',\n",
       "               '1997-05-01', '1997-06-01', '1997-07-01', '1997-08-01',\n",
       "               '1997-09-01', '1997-10-01', '1997-11-01', '1997-12-01',\n",
       "               '1998-01-01', '1998-02-01', '1998-03-01', '1998-04-01',\n",
       "               '1998-05-01', '1998-06-01', '1998-07-01', '1998-08-01',\n",
       "               '1998-09-01', '1998-10-01', '1998-11-01', '1998-12-01',\n",
       "               '1999-01-01', '1999-02-01', '1999-03-01', '1999-04-01',\n",
       "               '1999-05-01', '1999-06-01', '1999-07-01', '1999-08-01',\n",
       "               '1999-09-01', '1999-10-01', '1999-11-01', '1999-12-01',\n",
       "               '2000-01-01', '2000-02-01', '2000-03-01', '2000-04-01',\n",
       "               '2000-05-01', '2000-06-01', '2000-07-01', '2000-08-01',\n",
       "               '2000-09-01', '2000-10-01', '2000-11-01', '2000-12-01',\n",
       "               '2001-01-01', '2001-02-01', '2001-03-01', '2001-04-01',\n",
       "               '2001-05-01', '2001-06-01', '2001-07-01', '2001-08-01',\n",
       "               '2001-09-01', '2001-10-01', '2001-11-01', '2001-12-01',\n",
       "               '2002-01-01', '2002-02-01', '2002-03-01', '2002-04-01',\n",
       "               '2002-05-01', '2002-06-01', '2002-07-01', '2002-08-01',\n",
       "               '2002-09-01', '2002-10-01', '2002-11-01', '2002-12-01'],\n",
       "              dtype='datetime64[ns]', name='Month', freq=None)"
      ]
     },
     "execution_count": 49,
     "metadata": {},
     "output_type": "execute_result"
    }
   ],
   "source": [
    "Airlines_data.index"
   ]
  },
  {
   "cell_type": "code",
   "execution_count": 50,
   "id": "70a52aa6",
   "metadata": {},
   "outputs": [],
   "source": [
    "Airlines_data.index.freq = 'MS' "
   ]
  },
  {
   "cell_type": "code",
   "execution_count": 51,
   "id": "aaf75ade",
   "metadata": {},
   "outputs": [
    {
     "data": {
      "text/plain": [
       "DatetimeIndex(['1995-01-01', '1995-02-01', '1995-03-01', '1995-04-01',\n",
       "               '1995-05-01', '1995-06-01', '1995-07-01', '1995-08-01',\n",
       "               '1995-09-01', '1995-10-01', '1995-11-01', '1995-12-01',\n",
       "               '1996-01-01', '1996-02-01', '1996-03-01', '1996-04-01',\n",
       "               '1996-05-01', '1996-06-01', '1996-07-01', '1996-08-01',\n",
       "               '1996-09-01', '1996-10-01', '1996-11-01', '1996-12-01',\n",
       "               '1997-01-01', '1997-02-01', '1997-03-01', '1997-04-01',\n",
       "               '1997-05-01', '1997-06-01', '1997-07-01', '1997-08-01',\n",
       "               '1997-09-01', '1997-10-01', '1997-11-01', '1997-12-01',\n",
       "               '1998-01-01', '1998-02-01', '1998-03-01', '1998-04-01',\n",
       "               '1998-05-01', '1998-06-01', '1998-07-01', '1998-08-01',\n",
       "               '1998-09-01', '1998-10-01', '1998-11-01', '1998-12-01',\n",
       "               '1999-01-01', '1999-02-01', '1999-03-01', '1999-04-01',\n",
       "               '1999-05-01', '1999-06-01', '1999-07-01', '1999-08-01',\n",
       "               '1999-09-01', '1999-10-01', '1999-11-01', '1999-12-01',\n",
       "               '2000-01-01', '2000-02-01', '2000-03-01', '2000-04-01',\n",
       "               '2000-05-01', '2000-06-01', '2000-07-01', '2000-08-01',\n",
       "               '2000-09-01', '2000-10-01', '2000-11-01', '2000-12-01',\n",
       "               '2001-01-01', '2001-02-01', '2001-03-01', '2001-04-01',\n",
       "               '2001-05-01', '2001-06-01', '2001-07-01', '2001-08-01',\n",
       "               '2001-09-01', '2001-10-01', '2001-11-01', '2001-12-01',\n",
       "               '2002-01-01', '2002-02-01', '2002-03-01', '2002-04-01',\n",
       "               '2002-05-01', '2002-06-01', '2002-07-01', '2002-08-01',\n",
       "               '2002-09-01', '2002-10-01', '2002-11-01', '2002-12-01'],\n",
       "              dtype='datetime64[ns]', name='Month', freq='MS')"
      ]
     },
     "execution_count": 51,
     "metadata": {},
     "output_type": "execute_result"
    }
   ],
   "source": [
    "Airlines_data.index"
   ]
  },
  {
   "cell_type": "code",
   "execution_count": 52,
   "id": "efd64c32",
   "metadata": {},
   "outputs": [
    {
     "data": {
      "text/plain": [
       "(96,)"
      ]
     },
     "execution_count": 52,
     "metadata": {},
     "output_type": "execute_result"
    }
   ],
   "source": [
    "Airlines_data.index.shape"
   ]
  },
  {
   "cell_type": "code",
   "execution_count": 53,
   "id": "21a87f4d",
   "metadata": {},
   "outputs": [
    {
     "name": "stdout",
     "output_type": "stream",
     "text": [
      "<class 'pandas.core.frame.DataFrame'>\n",
      "DatetimeIndex: 96 entries, 1995-01-01 to 2002-12-01\n",
      "Freq: MS\n",
      "Data columns (total 1 columns):\n",
      " #   Column      Non-Null Count  Dtype\n",
      "---  ------      --------------  -----\n",
      " 0   Passengers  96 non-null     int64\n",
      "dtypes: int64(1)\n",
      "memory usage: 1.5 KB\n"
     ]
    }
   ],
   "source": [
    "Airlines_data.info()"
   ]
  },
  {
   "cell_type": "code",
   "execution_count": 54,
   "id": "29c94c39",
   "metadata": {},
   "outputs": [
    {
     "data": {
      "text/html": [
       "<div>\n",
       "<style scoped>\n",
       "    .dataframe tbody tr th:only-of-type {\n",
       "        vertical-align: middle;\n",
       "    }\n",
       "\n",
       "    .dataframe tbody tr th {\n",
       "        vertical-align: top;\n",
       "    }\n",
       "\n",
       "    .dataframe thead th {\n",
       "        text-align: right;\n",
       "    }\n",
       "</style>\n",
       "<table border=\"1\" class=\"dataframe\">\n",
       "  <thead>\n",
       "    <tr style=\"text-align: right;\">\n",
       "      <th></th>\n",
       "      <th>Passengers</th>\n",
       "    </tr>\n",
       "  </thead>\n",
       "  <tbody>\n",
       "    <tr>\n",
       "      <th>count</th>\n",
       "      <td>96.000000</td>\n",
       "    </tr>\n",
       "    <tr>\n",
       "      <th>mean</th>\n",
       "      <td>213.708333</td>\n",
       "    </tr>\n",
       "    <tr>\n",
       "      <th>std</th>\n",
       "      <td>71.918216</td>\n",
       "    </tr>\n",
       "    <tr>\n",
       "      <th>min</th>\n",
       "      <td>104.000000</td>\n",
       "    </tr>\n",
       "    <tr>\n",
       "      <th>25%</th>\n",
       "      <td>156.000000</td>\n",
       "    </tr>\n",
       "    <tr>\n",
       "      <th>50%</th>\n",
       "      <td>200.000000</td>\n",
       "    </tr>\n",
       "    <tr>\n",
       "      <th>75%</th>\n",
       "      <td>264.750000</td>\n",
       "    </tr>\n",
       "    <tr>\n",
       "      <th>max</th>\n",
       "      <td>413.000000</td>\n",
       "    </tr>\n",
       "  </tbody>\n",
       "</table>\n",
       "</div>"
      ],
      "text/plain": [
       "       Passengers\n",
       "count   96.000000\n",
       "mean   213.708333\n",
       "std     71.918216\n",
       "min    104.000000\n",
       "25%    156.000000\n",
       "50%    200.000000\n",
       "75%    264.750000\n",
       "max    413.000000"
      ]
     },
     "execution_count": 54,
     "metadata": {},
     "output_type": "execute_result"
    }
   ],
   "source": [
    "Airlines_data.describe()"
   ]
  },
  {
   "cell_type": "code",
   "execution_count": 55,
   "id": "456e1925",
   "metadata": {},
   "outputs": [
    {
     "data": {
      "text/plain": [
       "Passengers\n",
       "229           3\n",
       "237           2\n",
       "172           2\n",
       "178           2\n",
       "180           2\n",
       "             ..\n",
       "181           1\n",
       "171           1\n",
       "166           1\n",
       "163           1\n",
       "413           1\n",
       "Length: 80, dtype: int64"
      ]
     },
     "execution_count": 55,
     "metadata": {},
     "output_type": "execute_result"
    }
   ],
   "source": [
    "Airlines_data.value_counts()"
   ]
  },
  {
   "cell_type": "code",
   "execution_count": 56,
   "id": "542da7df",
   "metadata": {},
   "outputs": [
    {
     "data": {
      "text/plain": [
       "16"
      ]
     },
     "execution_count": 56,
     "metadata": {},
     "output_type": "execute_result"
    }
   ],
   "source": [
    "Airlines_data.duplicated().sum()"
   ]
  },
  {
   "cell_type": "markdown",
   "id": "18ae3aa4",
   "metadata": {},
   "source": [
    "## Visualization"
   ]
  },
  {
   "cell_type": "markdown",
   "id": "d009ef86",
   "metadata": {},
   "source": [
    "### a. Line Plot"
   ]
  },
  {
   "cell_type": "code",
   "execution_count": 57,
   "id": "e694b82f",
   "metadata": {},
   "outputs": [
    {
     "data": {
      "text/plain": [
       "<AxesSubplot:xlabel='Month'>"
      ]
     },
     "execution_count": 57,
     "metadata": {},
     "output_type": "execute_result"
    },
    {
     "data": {
      "image/png": "[encoded data removed]",
      "text/plain": [
       "<Figure size 864x288 with 1 Axes>"
      ]
     },
     "metadata": {
      "needs_background": "light"
     },
     "output_type": "display_data"
    }
   ],
   "source": [
    "Airlines_data.plot(figsize=(12,4))"
   ]
  },
  {
   "cell_type": "markdown",
   "id": "1fc3e9ea",
   "metadata": {},
   "source": [
    "### b. Histogram "
   ]
  },
  {
   "cell_type": "code",
   "execution_count": 58,
   "id": "3e8dcf93",
   "metadata": {},
   "outputs": [
    {
     "data": {
      "text/plain": [
       "array([[<AxesSubplot:title={'center':'Passengers'}>]], dtype=object)"
      ]
     },
     "execution_count": 58,
     "metadata": {},
     "output_type": "execute_result"
    },
    {
     "data": {
      "image/png": "[encoded data removed]",
      "text/plain": [
       "<Figure size 864x288 with 1 Axes>"
      ]
     },
     "metadata": {
      "needs_background": "light"
     },
     "output_type": "display_data"
    }
   ],
   "source": [
    "Airlines_data.hist(figsize=(12,4))"
   ]
  },
  {
   "cell_type": "markdown",
   "id": "325e19e2",
   "metadata": {},
   "source": [
    "## Time Series Decomposition"
   ]
  },
  {
   "cell_type": "markdown",
   "id": "58824bf6",
   "metadata": {},
   "source": [
    "### a. Additive Seasonal Decompose"
   ]
  },
  {
   "cell_type": "code",
   "execution_count": 59,
   "id": "f9c6567a",
   "metadata": {},
   "outputs": [
    {
     "data": {
      "image/png": "[encoded data removed]",
      "text/plain": [
       "<Figure size 432x288 with 4 Axes>"
      ]
     },
     "metadata": {
      "needs_background": "light"
     },
     "output_type": "display_data"
    }
   ],
   "source": [
    "decompose_ts_add = seasonal_decompose(Airlines_data.Passengers,model=\"additive\",period=4)\n",
    "decompose_ts_add.plot()\n",
    "plt.show()"
   ]
  },
  {
   "cell_type": "markdown",
   "id": "d8298aa6",
   "metadata": {},
   "source": [
    "### b. Multiplicative Seasonal Decompose"
   ]
  },
  {
   "cell_type": "code",
   "execution_count": 60,
   "id": "48493621",
   "metadata": {},
   "outputs": [
    {
     "data": {
      "image/png": "[encoded data removed]",
      "text/plain": [
       "<Figure size 432x288 with 4 Axes>"
      ]
     },
     "metadata": {
      "needs_background": "light"
     },
     "output_type": "display_data"
    }
   ],
   "source": [
    "decompose_ts_mul= seasonal_decompose((Airlines_data.Passengers.values),model='multiplicative',period=4)\n",
    "decompose_ts_mul.plot()\n",
    "plt.show()"
   ]
  },
  {
   "cell_type": "markdown",
   "id": "9933bac3",
   "metadata": {},
   "source": [
    "## Splitting Data into Training and Testing Data"
   ]
  },
  {
   "cell_type": "code",
   "execution_count": 61,
   "id": "ae394ebb",
   "metadata": {},
   "outputs": [],
   "source": [
    "Airlines_data_train=Airlines_data[0:72]\n",
    "Airlines_data_test=Airlines_data[72:]"
   ]
  },
  {
   "cell_type": "code",
   "execution_count": 62,
   "id": "67e8e10f",
   "metadata": {},
   "outputs": [
    {
     "data": {
      "text/plain": [
       "72"
      ]
     },
     "execution_count": 62,
     "metadata": {},
     "output_type": "execute_result"
    }
   ],
   "source": [
    "len(Airlines_data_train)"
   ]
  },
  {
   "cell_type": "code",
   "execution_count": 63,
   "id": "3d6ba0a7",
   "metadata": {},
   "outputs": [
    {
     "data": {
      "text/plain": [
       "24"
      ]
     },
     "execution_count": 63,
     "metadata": {},
     "output_type": "execute_result"
    }
   ],
   "source": [
    "len(Airlines_data_test)"
   ]
  },
  {
   "cell_type": "code",
   "execution_count": 64,
   "id": "d4ebbe33",
   "metadata": {},
   "outputs": [
    {
     "data": {
      "text/html": [
       "<div>\n",
       "<style scoped>\n",
       "    .dataframe tbody tr th:only-of-type {\n",
       "        vertical-align: middle;\n",
       "    }\n",
       "\n",
       "    .dataframe tbody tr th {\n",
       "        vertical-align: top;\n",
       "    }\n",
       "\n",
       "    .dataframe thead th {\n",
       "        text-align: right;\n",
       "    }\n",
       "</style>\n",
       "<table border=\"1\" class=\"dataframe\">\n",
       "  <thead>\n",
       "    <tr style=\"text-align: right;\">\n",
       "      <th></th>\n",
       "      <th>Passengers</th>\n",
       "    </tr>\n",
       "    <tr>\n",
       "      <th>Month</th>\n",
       "      <th></th>\n",
       "    </tr>\n",
       "  </thead>\n",
       "  <tbody>\n",
       "    <tr>\n",
       "      <th>1995-01-01</th>\n",
       "      <td>112</td>\n",
       "    </tr>\n",
       "    <tr>\n",
       "      <th>1995-02-01</th>\n",
       "      <td>118</td>\n",
       "    </tr>\n",
       "    <tr>\n",
       "      <th>1995-03-01</th>\n",
       "      <td>132</td>\n",
       "    </tr>\n",
       "    <tr>\n",
       "      <th>1995-04-01</th>\n",
       "      <td>129</td>\n",
       "    </tr>\n",
       "    <tr>\n",
       "      <th>1995-05-01</th>\n",
       "      <td>121</td>\n",
       "    </tr>\n",
       "  </tbody>\n",
       "</table>\n",
       "</div>"
      ],
      "text/plain": [
       "            Passengers\n",
       "Month                 \n",
       "1995-01-01         112\n",
       "1995-02-01         118\n",
       "1995-03-01         132\n",
       "1995-04-01         129\n",
       "1995-05-01         121"
      ]
     },
     "execution_count": 64,
     "metadata": {},
     "output_type": "execute_result"
    }
   ],
   "source": [
    "Airlines_data_train.head()"
   ]
  },
  {
   "cell_type": "code",
   "execution_count": 65,
   "id": "479c9015",
   "metadata": {},
   "outputs": [
    {
     "data": {
      "text/html": [
       "<div>\n",
       "<style scoped>\n",
       "    .dataframe tbody tr th:only-of-type {\n",
       "        vertical-align: middle;\n",
       "    }\n",
       "\n",
       "    .dataframe tbody tr th {\n",
       "        vertical-align: top;\n",
       "    }\n",
       "\n",
       "    .dataframe thead th {\n",
       "        text-align: right;\n",
       "    }\n",
       "</style>\n",
       "<table border=\"1\" class=\"dataframe\">\n",
       "  <thead>\n",
       "    <tr style=\"text-align: right;\">\n",
       "      <th></th>\n",
       "      <th>Passengers</th>\n",
       "    </tr>\n",
       "    <tr>\n",
       "      <th>Month</th>\n",
       "      <th></th>\n",
       "    </tr>\n",
       "  </thead>\n",
       "  <tbody>\n",
       "    <tr>\n",
       "      <th>2001-01-01</th>\n",
       "      <td>242</td>\n",
       "    </tr>\n",
       "    <tr>\n",
       "      <th>2001-02-01</th>\n",
       "      <td>233</td>\n",
       "    </tr>\n",
       "    <tr>\n",
       "      <th>2001-03-01</th>\n",
       "      <td>267</td>\n",
       "    </tr>\n",
       "    <tr>\n",
       "      <th>2001-04-01</th>\n",
       "      <td>269</td>\n",
       "    </tr>\n",
       "    <tr>\n",
       "      <th>2001-05-01</th>\n",
       "      <td>270</td>\n",
       "    </tr>\n",
       "  </tbody>\n",
       "</table>\n",
       "</div>"
      ],
      "text/plain": [
       "            Passengers\n",
       "Month                 \n",
       "2001-01-01         242\n",
       "2001-02-01         233\n",
       "2001-03-01         267\n",
       "2001-04-01         269\n",
       "2001-05-01         270"
      ]
     },
     "execution_count": 65,
     "metadata": {},
     "output_type": "execute_result"
    }
   ],
   "source": [
    "Airlines_data_test.head()"
   ]
  },
  {
   "cell_type": "markdown",
   "id": "6e753f2f",
   "metadata": {},
   "source": [
    "## Method of Forecasting"
   ]
  },
  {
   "cell_type": "markdown",
   "id": "6f757a27",
   "metadata": {},
   "source": [
    "## 1. Simple Moving Average"
   ]
  },
  {
   "cell_type": "code",
   "execution_count": 66,
   "id": "58954b1f",
   "metadata": {},
   "outputs": [],
   "source": [
    "Airlines_data_ma=Airlines_data.copy()"
   ]
  },
  {
   "cell_type": "code",
   "execution_count": 67,
   "id": "2ea8b1f2",
   "metadata": {},
   "outputs": [],
   "source": [
    "Airlines_data_train_len=72"
   ]
  },
  {
   "cell_type": "code",
   "execution_count": 68,
   "id": "d0bf54c4",
   "metadata": {},
   "outputs": [],
   "source": [
    "roll_val=[]\n",
    "rmse_val=[]\n",
    "\n",
    "for i in range(4,28,4):\n",
    "    Airlines_data_ma['ma_forecast'] = Airlines_data_ma['Passengers'].rolling(i).mean()\n",
    "    Airlines_data_ma['ma_forecast'][Airlines_data_train_len:] = Airlines_data_ma['ma_forecast'][Airlines_data_train_len-1]\n",
    "    rmse_ma = mean_squared_error(Airlines_data_test['Passengers'],Airlines_data_ma['ma_forecast'][Airlines_data_train_len:],squared=False).round(2)\n",
    "    roll_val.append(i)\n",
    "    rmse_val.append(rmse_ma)\n"
   ]
  },
  {
   "cell_type": "code",
   "execution_count": 69,
   "id": "63ba4d50",
   "metadata": {},
   "outputs": [
    {
     "data": {
      "text/plain": [
       "90.27"
      ]
     },
     "execution_count": 69,
     "metadata": {},
     "output_type": "execute_result"
    }
   ],
   "source": [
    "Airlines_data_ma['ma_forecast'] = Airlines_data_ma['Passengers'].rolling(4).mean()\n",
    "Airlines_data_ma['ma_forecast'][Airlines_data_train_len:] = Airlines_data_ma['ma_forecast'][Airlines_data_train_len-1]\n",
    "rmse_ma = mean_squared_error(Airlines_data_test['Passengers'],Airlines_data_ma['ma_forecast'][Airlines_data_train_len:],squared=False).round(2)\n",
    "rmse_ma"
   ]
  },
  {
   "cell_type": "code",
   "execution_count": 70,
   "id": "1b1a1210",
   "metadata": {},
   "outputs": [
    {
     "data": {
      "text/plain": [
       "<matplotlib.legend.Legend at 0x15cd28badf0>"
      ]
     },
     "execution_count": 70,
     "metadata": {},
     "output_type": "execute_result"
    },
    {
     "data": {
      "image/png": "[encoded data removed]",
      "text/plain": [
       "<Figure size 864x288 with 1 Axes>"
      ]
     },
     "metadata": {
      "needs_background": "light"
     },
     "output_type": "display_data"
    }
   ],
   "source": [
    "plt.figure(figsize=(12,4))\n",
    "Airlines_data_test['Passengers'].plot(label=\"org\")\n",
    "for i in range(2,8,2):\n",
    "    Airlines_data_test['Passengers'].rolling(i).mean().plot(label=str(i))\n",
    "plt.legend(loc='best')"
   ]
  },
  {
   "cell_type": "markdown",
   "id": "bfe98b3a",
   "metadata": {},
   "source": [
    "## Evaluation Metric RMSE"
   ]
  },
  {
   "cell_type": "code",
   "execution_count": 71,
   "id": "1cd1445a",
   "metadata": {},
   "outputs": [],
   "source": [
    "def RMSE(org, pred):\n",
    "    rmse=np.sqrt(np.mean((np.array(org)-np.array(pred))**2))\n",
    "    return rmse"
   ]
  },
  {
   "cell_type": "markdown",
   "id": "05a1a377",
   "metadata": {},
   "source": [
    "## 2. Simple Exponential Method"
   ]
  },
  {
   "cell_type": "code",
   "execution_count": 72,
   "id": "a5a6d565",
   "metadata": {},
   "outputs": [
    {
     "data": {
      "text/plain": [
       "91.11325402904403"
      ]
     },
     "execution_count": 72,
     "metadata": {},
     "output_type": "execute_result"
    }
   ],
   "source": [
    "ses_model = SimpleExpSmoothing(Airlines_data_train[\"Passengers\"]).fit()\n",
    "pred_ses = ses_model.predict(start = Airlines_data_test.index[0],end =Airlines_data_test.index[-1])\n",
    "rmse_ses_model= RMSE(Airlines_data_test.Passengers, pred_ses)\n",
    "rmse_ses_model"
   ]
  },
  {
   "cell_type": "markdown",
   "id": "6d6b3bb0",
   "metadata": {},
   "source": [
    "## 3. Holt Method"
   ]
  },
  {
   "cell_type": "code",
   "execution_count": 73,
   "id": "91f63d5a",
   "metadata": {},
   "outputs": [
    {
     "data": {
      "text/plain": [
       "71.64092572375277"
      ]
     },
     "execution_count": 73,
     "metadata": {},
     "output_type": "execute_result"
    }
   ],
   "source": [
    "hw_model = Holt(Airlines_data_train[\"Passengers\"]).fit()\n",
    "pred_hw = hw_model.predict(start = Airlines_data_test.index[0],end = Airlines_data_test.index[-1])\n",
    "rmse_hw_model = RMSE(Airlines_data_test.Passengers, pred_hw)\n",
    "rmse_hw_model"
   ]
  },
  {
   "cell_type": "markdown",
   "id": "77a297c4",
   "metadata": {},
   "source": [
    "### a. Holts winter exponential smoothing with additive seasonality and additive trend"
   ]
  },
  {
   "cell_type": "code",
   "execution_count": 74,
   "id": "d7557374",
   "metadata": {},
   "outputs": [
    {
     "data": {
      "text/plain": [
       "47.57079569932803"
      ]
     },
     "execution_count": 74,
     "metadata": {},
     "output_type": "execute_result"
    }
   ],
   "source": [
    "hwe_model_add_add = ExponentialSmoothing(Airlines_data_train[\"Passengers\"],seasonal=\"add\",trend=\"add\",seasonal_periods=12).fit()\n",
    "pred_hwe_add_add = hwe_model_add_add.predict(start = Airlines_data_test.index[0],end = Airlines_data_test.index[-1])\n",
    "rmse_hwe_add_add_model = RMSE(Airlines_data_test.Passengers, pred_hwe_add_add)\n",
    "rmse_hwe_add_add_model"
   ]
  },
  {
   "cell_type": "markdown",
   "id": "42d0c46b",
   "metadata": {},
   "source": [
    "### b. Holts winter exponential smoothing with multiplicative seasonality and additive trend"
   ]
  },
  {
   "cell_type": "code",
   "execution_count": 75,
   "id": "7392500d",
   "metadata": {},
   "outputs": [
    {
     "data": {
      "text/plain": [
       "34.989294364735954"
      ]
     },
     "execution_count": 75,
     "metadata": {},
     "output_type": "execute_result"
    }
   ],
   "source": [
    "hwe_model_mul_add = ExponentialSmoothing(Airlines_data_train[\"Passengers\"],seasonal=\"mul\",trend=\"add\",seasonal_periods=12).fit() \n",
    "pred_hwe_mul_add = hwe_model_mul_add.predict(start = Airlines_data_test.index[0],end = Airlines_data_test.index[-1])\n",
    "rmse_hwe_model_mul_add_model = RMSE( Airlines_data_test.Passengers, pred_hwe_mul_add)\n",
    "rmse_hwe_model_mul_add_model"
   ]
  },
  {
   "cell_type": "markdown",
   "id": "dfb8c7aa",
   "metadata": {},
   "source": [
    "## 4. ARIMA Model"
   ]
  },
  {
   "cell_type": "markdown",
   "id": "ddc77501",
   "metadata": {},
   "source": [
    "### a. acf plot"
   ]
  },
  {
   "cell_type": "code",
   "execution_count": 76,
   "id": "f1ed93e0",
   "metadata": {},
   "outputs": [
    {
     "data": {
      "image/png": "[encoded data removed]",
      "text/plain": [
       "<Figure size 864x288 with 1 Axes>"
      ]
     },
     "metadata": {
      "needs_background": "light"
     },
     "output_type": "display_data"
    }
   ],
   "source": [
    "# Show autocorrelation upto lag 20\n",
    "plt.figure(figsize=(12,4))\n",
    "acf_plot = plot_acf(Airlines_data['Passengers'],ax=plt.gca(),lags=20)\n",
    "plt.show()"
   ]
  },
  {
   "cell_type": "markdown",
   "id": "0e06b7d2",
   "metadata": {},
   "source": [
    "### b. pacf plot"
   ]
  },
  {
   "cell_type": "code",
   "execution_count": 77,
   "id": "89946f6e",
   "metadata": {},
   "outputs": [
    {
     "data": {
      "image/png": "[encoded data removed]",
      "text/plain": [
       "<Figure size 864x288 with 1 Axes>"
      ]
     },
     "metadata": {
      "needs_background": "light"
     },
     "output_type": "display_data"
    }
   ],
   "source": [
    "plt.figure(figsize=(12,4))\n",
    "pacf_plot = plot_pacf(Airlines_data['Passengers'],ax=plt.gca(),lags=20)\n",
    "plt.show()"
   ]
  },
  {
   "cell_type": "code",
   "execution_count": 78,
   "id": "6cc3cde4",
   "metadata": {},
   "outputs": [
    {
     "data": {
      "text/plain": [
       "88.96"
      ]
     },
     "execution_count": 78,
     "metadata": {},
     "output_type": "execute_result"
    }
   ],
   "source": [
    "arima = ARIMA(Airlines_data_train['Passengers'], order=(1,1,1)).fit()\n",
    "pred_arima= arima.predict(start = Airlines_data_test.index[0],end = Airlines_data_test.index[-1])\n",
    "rmse_arima = mean_squared_error(Airlines_data_test['Passengers'],pred_arima,squared=False).round(2)\n",
    "rmse_arima"
   ]
  },
  {
   "cell_type": "markdown",
   "id": "04ab6c12",
   "metadata": {},
   "source": [
    "## Choosing the best model"
   ]
  },
  {
   "cell_type": "code",
   "execution_count": 79,
   "id": "8547a829",
   "metadata": {},
   "outputs": [
    {
     "data": {
      "text/html": [
       "<div>\n",
       "<style scoped>\n",
       "    .dataframe tbody tr th:only-of-type {\n",
       "        vertical-align: middle;\n",
       "    }\n",
       "\n",
       "    .dataframe tbody tr th {\n",
       "        vertical-align: top;\n",
       "    }\n",
       "\n",
       "    .dataframe thead th {\n",
       "        text-align: right;\n",
       "    }\n",
       "</style>\n",
       "<table border=\"1\" class=\"dataframe\">\n",
       "  <thead>\n",
       "    <tr style=\"text-align: right;\">\n",
       "      <th></th>\n",
       "      <th>Models</th>\n",
       "      <th>Rmse</th>\n",
       "    </tr>\n",
       "  </thead>\n",
       "  <tbody>\n",
       "    <tr>\n",
       "      <th>0</th>\n",
       "      <td>Simple_Moving_Average</td>\n",
       "      <td>90.270000</td>\n",
       "    </tr>\n",
       "    <tr>\n",
       "      <th>1</th>\n",
       "      <td>Simple_Exponential_Smoothing</td>\n",
       "      <td>91.113254</td>\n",
       "    </tr>\n",
       "    <tr>\n",
       "      <th>2</th>\n",
       "      <td>Holt</td>\n",
       "      <td>71.640926</td>\n",
       "    </tr>\n",
       "    <tr>\n",
       "      <th>3</th>\n",
       "      <td>Holt_additive</td>\n",
       "      <td>47.570796</td>\n",
       "    </tr>\n",
       "    <tr>\n",
       "      <th>4</th>\n",
       "      <td>Holt_multiplicative</td>\n",
       "      <td>34.989294</td>\n",
       "    </tr>\n",
       "    <tr>\n",
       "      <th>5</th>\n",
       "      <td>ARIMA</td>\n",
       "      <td>88.960000</td>\n",
       "    </tr>\n",
       "  </tbody>\n",
       "</table>\n",
       "</div>"
      ],
      "text/plain": [
       "                         Models       Rmse\n",
       "0         Simple_Moving_Average  90.270000\n",
       "1  Simple_Exponential_Smoothing  91.113254\n",
       "2                          Holt  71.640926\n",
       "3                 Holt_additive  47.570796\n",
       "4           Holt_multiplicative  34.989294\n",
       "5                         ARIMA  88.960000"
      ]
     },
     "execution_count": 79,
     "metadata": {},
     "output_type": "execute_result"
    }
   ],
   "source": [
    "models=['Simple_Moving_Average','Simple_Exponential_Smoothing','Holt','Holt_additive','Holt_multiplicative','ARIMA']\n",
    "rmse=[rmse_ma,rmse_ses_model,rmse_hw_model,rmse_hwe_add_add_model,rmse_hwe_model_mul_add_model,rmse_arima]\n",
    "d={'Models':models,'Rmse':rmse}\n",
    "Airlines_data_model=pd.DataFrame(d)\n",
    "Airlines_data_model"
   ]
  },
  {
   "cell_type": "code",
   "execution_count": 80,
   "id": "5dc6b3a2",
   "metadata": {},
   "outputs": [
    {
     "data": {
      "text/html": [
       "<div>\n",
       "<style scoped>\n",
       "    .dataframe tbody tr th:only-of-type {\n",
       "        vertical-align: middle;\n",
       "    }\n",
       "\n",
       "    .dataframe tbody tr th {\n",
       "        vertical-align: top;\n",
       "    }\n",
       "\n",
       "    .dataframe thead th {\n",
       "        text-align: right;\n",
       "    }\n",
       "</style>\n",
       "<table border=\"1\" class=\"dataframe\">\n",
       "  <thead>\n",
       "    <tr style=\"text-align: right;\">\n",
       "      <th></th>\n",
       "      <th>Models</th>\n",
       "      <th>Rmse</th>\n",
       "    </tr>\n",
       "  </thead>\n",
       "  <tbody>\n",
       "    <tr>\n",
       "      <th>4</th>\n",
       "      <td>Holt_multiplicative</td>\n",
       "      <td>34.989294</td>\n",
       "    </tr>\n",
       "    <tr>\n",
       "      <th>3</th>\n",
       "      <td>Holt_additive</td>\n",
       "      <td>47.570796</td>\n",
       "    </tr>\n",
       "    <tr>\n",
       "      <th>2</th>\n",
       "      <td>Holt</td>\n",
       "      <td>71.640926</td>\n",
       "    </tr>\n",
       "    <tr>\n",
       "      <th>5</th>\n",
       "      <td>ARIMA</td>\n",
       "      <td>88.960000</td>\n",
       "    </tr>\n",
       "    <tr>\n",
       "      <th>0</th>\n",
       "      <td>Simple_Moving_Average</td>\n",
       "      <td>90.270000</td>\n",
       "    </tr>\n",
       "    <tr>\n",
       "      <th>1</th>\n",
       "      <td>Simple_Exponential_Smoothing</td>\n",
       "      <td>91.113254</td>\n",
       "    </tr>\n",
       "  </tbody>\n",
       "</table>\n",
       "</div>"
      ],
      "text/plain": [
       "                         Models       Rmse\n",
       "4           Holt_multiplicative  34.989294\n",
       "3                 Holt_additive  47.570796\n",
       "2                          Holt  71.640926\n",
       "5                         ARIMA  88.960000\n",
       "0         Simple_Moving_Average  90.270000\n",
       "1  Simple_Exponential_Smoothing  91.113254"
      ]
     },
     "execution_count": 80,
     "metadata": {},
     "output_type": "execute_result"
    }
   ],
   "source": [
    "Airlines_data_model.sort_values(by='Rmse')"
   ]
  },
  {
   "cell_type": "markdown",
   "id": "d40877de",
   "metadata": {},
   "source": [
    "## Inference"
   ]
  },
  {
   "cell_type": "markdown",
   "id": "1c8d62ba",
   "metadata": {},
   "source": [
    "#### Holts winter exponential smoothing with multiplicative seasonality and additive trend is the best model as it has least Rmse."
   ]
  },
  {
   "cell_type": "code",
   "execution_count": null,
   "id": "c14b4f16",
   "metadata": {},
   "outputs": [],
   "source": []
  }
 ],
 "metadata": {
  "kernelspec": {
   "display_name": "Python 3 (ipykernel)",
   "language": "python",
   "name": "python3"
  },
  "language_info": {
   "codemirror_mode": {
    "name": "ipython",
    "version": 3
   },
   "file_extension": ".py",
   "mimetype": "text/x-python",
   "name": "python",
   "nbconvert_exporter": "python",
   "pygments_lexer": "ipython3",
   "version": "3.9.12"
  }
 },
 "nbformat": 4,
 "nbformat_minor": 5
}
